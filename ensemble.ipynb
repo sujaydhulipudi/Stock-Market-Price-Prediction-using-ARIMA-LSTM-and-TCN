{
 "cells": [
  {
   "cell_type": "code",
   "id": "initial_id",
   "metadata": {
    "collapsed": true,
    "ExecuteTime": {
     "end_time": "2024-10-30T09:38:01.057887Z",
     "start_time": "2024-10-30T09:38:01.050690Z"
    }
   },
   "source": [
    "import pandas as pd\n",
    "import numpy as np\n",
    "import matplotlib.pyplot as plt"
   ],
   "outputs": [],
   "execution_count": 41
  },
  {
   "metadata": {
    "ExecuteTime": {
     "end_time": "2024-10-30T09:38:01.092904Z",
     "start_time": "2024-10-30T09:38:01.069856Z"
    }
   },
   "cell_type": "code",
   "source": [
    "prediction_lstm = pd.read_csv('lstm.csv')\n",
    "prediction_tcn = pd.read_csv('tcn.csv')\n",
    "prediction_arima = pd.read_csv('arima.csv')"
   ],
   "id": "3f5d02d963e7d88e",
   "outputs": [],
   "execution_count": 42
  },
  {
   "metadata": {
    "ExecuteTime": {
     "end_time": "2024-10-30T09:38:01.113877Z",
     "start_time": "2024-10-30T09:38:01.111259Z"
    }
   },
   "cell_type": "code",
   "source": [
    "weight_lstm = 0.2\n",
    "weight_tcn = 0.5\n",
    "weight_arima = 0.3"
   ],
   "id": "432b39f81f158067",
   "outputs": [],
   "execution_count": 43
  },
  {
   "metadata": {
    "ExecuteTime": {
     "end_time": "2024-10-30T09:42:52.653887Z",
     "start_time": "2024-10-30T09:42:52.632461Z"
    }
   },
   "cell_type": "code",
   "source": [
    "ensemble_predictions = (weight_lstm * prediction_lstm +\n",
    "                        weight_arima * prediction_arima +\n",
    "                        weight_tcn * prediction_tcn)\n",
    "\n",
    "df = ensemble_predictions\n",
    "\n",
    "del ensemble_predictions['Unnamed: 0']\n",
    "ensemble_predictions"
   ],
   "id": "2a550a91a0cd55a2",
   "outputs": [
    {
     "data": {
      "text/plain": [
       "             0\n",
       "0  25617.80682\n",
       "1  25635.46273\n",
       "2  25625.97842\n",
       "3  25625.74391\n",
       "4  25678.75661\n",
       "5  25798.92027\n",
       "6  25909.60169\n",
       "7  26064.32814\n",
       "8  26093.34419\n",
       "9  26007.07762\n",
       "10 25920.00304\n",
       "11 25804.99337\n",
       "12 25684.40716\n",
       "13 25552.64002\n",
       "14 25443.93643\n",
       "15 25441.48311\n",
       "16 25540.62457\n",
       "17 25659.33559\n",
       "18 25690.19501\n",
       "19 25672.50368"
      ],
      "text/html": [
       "<div>\n",
       "<style scoped>\n",
       "    .dataframe tbody tr th:only-of-type {\n",
       "        vertical-align: middle;\n",
       "    }\n",
       "\n",
       "    .dataframe tbody tr th {\n",
       "        vertical-align: top;\n",
       "    }\n",
       "\n",
       "    .dataframe thead th {\n",
       "        text-align: right;\n",
       "    }\n",
       "</style>\n",
       "<table border=\"1\" class=\"dataframe\">\n",
       "  <thead>\n",
       "    <tr style=\"text-align: right;\">\n",
       "      <th></th>\n",
       "      <th>0</th>\n",
       "    </tr>\n",
       "  </thead>\n",
       "  <tbody>\n",
       "    <tr>\n",
       "      <th>0</th>\n",
       "      <td>25617.80682</td>\n",
       "    </tr>\n",
       "    <tr>\n",
       "      <th>1</th>\n",
       "      <td>25635.46273</td>\n",
       "    </tr>\n",
       "    <tr>\n",
       "      <th>2</th>\n",
       "      <td>25625.97842</td>\n",
       "    </tr>\n",
       "    <tr>\n",
       "      <th>3</th>\n",
       "      <td>25625.74391</td>\n",
       "    </tr>\n",
       "    <tr>\n",
       "      <th>4</th>\n",
       "      <td>25678.75661</td>\n",
       "    </tr>\n",
       "    <tr>\n",
       "      <th>5</th>\n",
       "      <td>25798.92027</td>\n",
       "    </tr>\n",
       "    <tr>\n",
       "      <th>6</th>\n",
       "      <td>25909.60169</td>\n",
       "    </tr>\n",
       "    <tr>\n",
       "      <th>7</th>\n",
       "      <td>26064.32814</td>\n",
       "    </tr>\n",
       "    <tr>\n",
       "      <th>8</th>\n",
       "      <td>26093.34419</td>\n",
       "    </tr>\n",
       "    <tr>\n",
       "      <th>9</th>\n",
       "      <td>26007.07762</td>\n",
       "    </tr>\n",
       "    <tr>\n",
       "      <th>10</th>\n",
       "      <td>25920.00304</td>\n",
       "    </tr>\n",
       "    <tr>\n",
       "      <th>11</th>\n",
       "      <td>25804.99337</td>\n",
       "    </tr>\n",
       "    <tr>\n",
       "      <th>12</th>\n",
       "      <td>25684.40716</td>\n",
       "    </tr>\n",
       "    <tr>\n",
       "      <th>13</th>\n",
       "      <td>25552.64002</td>\n",
       "    </tr>\n",
       "    <tr>\n",
       "      <th>14</th>\n",
       "      <td>25443.93643</td>\n",
       "    </tr>\n",
       "    <tr>\n",
       "      <th>15</th>\n",
       "      <td>25441.48311</td>\n",
       "    </tr>\n",
       "    <tr>\n",
       "      <th>16</th>\n",
       "      <td>25540.62457</td>\n",
       "    </tr>\n",
       "    <tr>\n",
       "      <th>17</th>\n",
       "      <td>25659.33559</td>\n",
       "    </tr>\n",
       "    <tr>\n",
       "      <th>18</th>\n",
       "      <td>25690.19501</td>\n",
       "    </tr>\n",
       "    <tr>\n",
       "      <th>19</th>\n",
       "      <td>25672.50368</td>\n",
       "    </tr>\n",
       "  </tbody>\n",
       "</table>\n",
       "</div>"
      ]
     },
     "execution_count": 55,
     "metadata": {},
     "output_type": "execute_result"
    }
   ],
   "execution_count": 55
  },
  {
   "metadata": {
    "ExecuteTime": {
     "end_time": "2024-10-30T09:42:59.444934Z",
     "start_time": "2024-10-30T09:42:59.398543Z"
    }
   },
   "cell_type": "code",
   "source": [
    "import yfinance as yf\n",
    "from sklearn.metrics import mean_absolute_error, mean_squared_error\n",
    "\n",
    "raw_actual = yf.download(ticker, start='2024-10-01', end='2024-10-30')\n"
   ],
   "id": "9dabda3c080aa1a7",
   "outputs": [
    {
     "name": "stderr",
     "output_type": "stream",
     "text": [
      "[*********************100%***********************]  1 of 1 completed\n"
     ]
    }
   ],
   "execution_count": 56
  },
  {
   "metadata": {
    "ExecuteTime": {
     "end_time": "2024-10-30T09:43:00.579502Z",
     "start_time": "2024-10-30T09:43:00.574194Z"
    }
   },
   "cell_type": "code",
   "source": [
    "raw_actual.dropna(inplace=True)\n",
    "actual_values = np.array(raw_actual['Close'])\n",
    "\n",
    "actual_values"
   ],
   "id": "a04ee8fd0f41ef5a",
   "outputs": [
    {
     "data": {
      "text/plain": [
       "array([[25796.90039062],\n",
       "       [25250.09960938],\n",
       "       [25014.59960938],\n",
       "       [24795.75      ],\n",
       "       [25013.15039062],\n",
       "       [24981.94921875],\n",
       "       [24998.44921875],\n",
       "       [24964.25      ],\n",
       "       [25127.94921875],\n",
       "       [25057.34960938],\n",
       "       [24971.30078125],\n",
       "       [24749.84960938],\n",
       "       [24854.05078125],\n",
       "       [24781.09960938],\n",
       "       [24472.09960938],\n",
       "       [24435.5       ],\n",
       "       [24399.40039062],\n",
       "       [24180.80078125],\n",
       "       [24339.15039062],\n",
       "       [24466.84960938]])"
      ]
     },
     "execution_count": 57,
     "metadata": {},
     "output_type": "execute_result"
    }
   ],
   "execution_count": 57
  },
  {
   "metadata": {
    "ExecuteTime": {
     "end_time": "2024-10-30T09:43:02.683102Z",
     "start_time": "2024-10-30T09:43:02.676228Z"
    }
   },
   "cell_type": "code",
   "source": "mape = np.mean(np.abs((actual_values - ensemble_predictions) / actual_values)) * 100",
   "id": "7531392a66e4f4ad",
   "outputs": [],
   "execution_count": 58
  },
  {
   "metadata": {
    "ExecuteTime": {
     "end_time": "2024-10-30T09:43:03.876043Z",
     "start_time": "2024-10-30T09:43:03.868220Z"
    }
   },
   "cell_type": "code",
   "source": "mae = mean_absolute_error(actual_values, ensemble_predictions)",
   "id": "2c57fcd1fc102ae6",
   "outputs": [],
   "execution_count": 59
  },
  {
   "metadata": {
    "ExecuteTime": {
     "end_time": "2024-10-30T09:43:05.778298Z",
     "start_time": "2024-10-30T09:43:05.770416Z"
    }
   },
   "cell_type": "code",
   "source": "rmse = np.sqrt(mean_squared_error(actual_values, ensemble_predictions))",
   "id": "85f3f4021ec78012",
   "outputs": [],
   "execution_count": 60
  },
  {
   "metadata": {
    "ExecuteTime": {
     "end_time": "2024-10-30T09:43:41.656121Z",
     "start_time": "2024-10-30T09:43:41.649282Z"
    }
   },
   "cell_type": "code",
   "source": [
    "print(f\"Mean Absolute Percentage Error (MAPE): {mape:.2f}%\")\n",
    "print(f\"Mean Absolute Error (MAE): {mae:.2f}\")\n",
    "print(f\"Root Mean Squared Error (RMSE): {rmse:.2f}\")"
   ],
   "id": "f6f711531e775f76",
   "outputs": [
    {
     "name": "stdout",
     "output_type": "stream",
     "text": [
      "Mean Absolute Percentage Error (MAPE): 3.68%\n",
      "Mean Absolute Error (MAE): 908.74\n",
      "Root Mean Squared Error (RMSE): 955.25\n"
     ]
    }
   ],
   "execution_count": 62
  },
  {
   "metadata": {
    "ExecuteTime": {
     "end_time": "2024-10-30T09:46:02.088859Z",
     "start_time": "2024-10-30T09:46:02.068643Z"
    }
   },
   "cell_type": "code",
   "source": "df.head()",
   "id": "1443be8606a104a4",
   "outputs": [
    {
     "data": {
      "text/plain": [
       "            0\n",
       "0 25617.80682\n",
       "1 25635.46273\n",
       "2 25625.97842\n",
       "3 25625.74391\n",
       "4 25678.75661"
      ],
      "text/html": [
       "<div>\n",
       "<style scoped>\n",
       "    .dataframe tbody tr th:only-of-type {\n",
       "        vertical-align: middle;\n",
       "    }\n",
       "\n",
       "    .dataframe tbody tr th {\n",
       "        vertical-align: top;\n",
       "    }\n",
       "\n",
       "    .dataframe thead th {\n",
       "        text-align: right;\n",
       "    }\n",
       "</style>\n",
       "<table border=\"1\" class=\"dataframe\">\n",
       "  <thead>\n",
       "    <tr style=\"text-align: right;\">\n",
       "      <th></th>\n",
       "      <th>0</th>\n",
       "    </tr>\n",
       "  </thead>\n",
       "  <tbody>\n",
       "    <tr>\n",
       "      <th>0</th>\n",
       "      <td>25617.80682</td>\n",
       "    </tr>\n",
       "    <tr>\n",
       "      <th>1</th>\n",
       "      <td>25635.46273</td>\n",
       "    </tr>\n",
       "    <tr>\n",
       "      <th>2</th>\n",
       "      <td>25625.97842</td>\n",
       "    </tr>\n",
       "    <tr>\n",
       "      <th>3</th>\n",
       "      <td>25625.74391</td>\n",
       "    </tr>\n",
       "    <tr>\n",
       "      <th>4</th>\n",
       "      <td>25678.75661</td>\n",
       "    </tr>\n",
       "  </tbody>\n",
       "</table>\n",
       "</div>"
      ]
     },
     "execution_count": 65,
     "metadata": {},
     "output_type": "execute_result"
    }
   ],
   "execution_count": 65
  },
  {
   "metadata": {
    "ExecuteTime": {
     "end_time": "2024-10-30T09:47:06.396023Z",
     "start_time": "2024-10-30T09:47:06.304913Z"
    }
   },
   "cell_type": "code",
   "source": [
    "\n",
    "# Plotting\n",
    "plt.figure(figsize=(10, 6))\n",
    "plt.plot(df.iloc[:, 0], label='Stock Price')  # Assumes data is in the second column\n",
    "plt.ylim(25000, 27000)  # Set y-axis range\n",
    "\n",
    "# Labeling the plot\n",
    "plt.title('^Stock Price Prediction')\n",
    "plt.xlabel('Time')\n",
    "plt.ylabel('Stock Price')\n",
    "plt.legend()\n",
    "\n",
    "# Show the plot\n",
    "plt.show()"
   ],
   "id": "b89356a3275f002",
   "outputs": [
    {
     "data": {
      "text/plain": [
       "<Figure size 1000x600 with 1 Axes>"
      ],
      "image/png": "[encoded data removed]"
     },
     "metadata": {},
     "output_type": "display_data"
    }
   ],
   "execution_count": 68
  }
 ],
 "metadata": {
  "kernelspec": {
   "display_name": "Python 3",
   "language": "python",
   "name": "python3"
  },
  "language_info": {
   "codemirror_mode": {
    "name": "ipython",
    "version": 2
   },
   "file_extension": ".py",
   "mimetype": "text/x-python",
   "name": "python",
   "nbconvert_exporter": "python",
   "pygments_lexer": "ipython2",
   "version": "2.7.6"
  }
 },
 "nbformat": 4,
 "nbformat_minor": 5
}
