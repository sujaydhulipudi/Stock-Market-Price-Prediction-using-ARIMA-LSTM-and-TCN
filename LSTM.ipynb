{
 "cells": [
  {
   "cell_type": "code",
   "id": "initial_id",
   "metadata": {
    "collapsed": true,
    "ExecuteTime": {
     "end_time": "2024-10-30T08:55:47.802728Z",
     "start_time": "2024-10-30T08:55:47.788998Z"
    }
   },
   "source": [
    "import yfinance as yf\n",
    "import pandas as pd\n",
    "import numpy as np\n",
    "import tensorflow as tf\n",
    "import random\n",
    "from sklearn.preprocessing import MinMaxScaler\n",
    "from tensorflow.keras.models import Sequential\n",
    "from tensorflow.keras.callbacks import EarlyStopping\n",
    "from tensorflow.keras.layers import LSTM, Dense, Dropout\n",
    "import matplotlib.pyplot as plt"
   ],
   "outputs": [],
   "execution_count": 608
  },
  {
   "metadata": {
    "ExecuteTime": {
     "end_time": "2024-10-30T08:55:47.849896Z",
     "start_time": "2024-10-30T08:55:47.807758Z"
    }
   },
   "cell_type": "code",
   "source": [
    "seed_value = 42\n",
    "np.random.seed(seed_value)\n",
    "tf.random.set_seed(seed_value)\n",
    "random.seed(seed_value)"
   ],
   "id": "644f1d35d8240506",
   "outputs": [],
   "execution_count": 609
  },
  {
   "metadata": {
    "ExecuteTime": {
     "end_time": "2024-10-30T08:55:47.886471Z",
     "start_time": "2024-10-30T08:55:47.868849Z"
    }
   },
   "cell_type": "code",
   "source": [
    "ticker = '^NSEI'\n",
    "df = yf.download(ticker, start='2023-10-01', end='2024-10-01')"
   ],
   "id": "5a4feb0ad09a7455",
   "outputs": [
    {
     "name": "stderr",
     "output_type": "stream",
     "text": [
      "[*********************100%***********************]  1 of 1 completed\n"
     ]
    }
   ],
   "execution_count": 610
  },
  {
   "metadata": {
    "ExecuteTime": {
     "end_time": "2024-10-30T08:55:47.910522Z",
     "start_time": "2024-10-30T08:55:47.906534Z"
    }
   },
   "cell_type": "code",
   "source": [
    "data = df['Close'].values\n",
    "data = data.reshape(-1, 1)\n",
    "data"
   ],
   "id": "482af594bf95851f",
   "outputs": [
    {
     "data": {
      "text/plain": [
       "array([[19528.75      ],\n",
       "       [19436.09960938],\n",
       "       [19545.75      ],\n",
       "       [19653.5       ],\n",
       "       [19512.34960938],\n",
       "       [19689.84960938],\n",
       "       [19811.34960938],\n",
       "       [19794.        ],\n",
       "       [19751.05078125],\n",
       "       [19731.75      ],\n",
       "       [19811.5       ],\n",
       "       [19671.09960938],\n",
       "       [19624.69921875],\n",
       "       [19542.65039062],\n",
       "       [19281.75      ],\n",
       "       [19122.15039062],\n",
       "       [18857.25      ],\n",
       "       [19047.25      ],\n",
       "       [19140.90039062],\n",
       "       [19079.59960938],\n",
       "       [18989.15039062],\n",
       "       [19133.25      ],\n",
       "       [19230.59960938],\n",
       "       [19411.75      ],\n",
       "       [19406.69921875],\n",
       "       [19443.5       ],\n",
       "       [19395.30078125],\n",
       "       [19425.34960938],\n",
       "       [19443.55078125],\n",
       "       [19675.44921875],\n",
       "       [19765.19921875],\n",
       "       [19731.80078125],\n",
       "       [19694.        ],\n",
       "       [19783.40039062],\n",
       "       [19811.84960938],\n",
       "       [19802.        ],\n",
       "       [19794.69921875],\n",
       "       [19889.69921875],\n",
       "       [20096.59960938],\n",
       "       [20133.15039062],\n",
       "       [20267.90039062],\n",
       "       [20686.80078125],\n",
       "       [20855.09960938],\n",
       "       [20937.69921875],\n",
       "       [20901.15039062],\n",
       "       [20969.40039062],\n",
       "       [20997.09960938],\n",
       "       [20906.40039062],\n",
       "       [20926.34960938],\n",
       "       [21182.69921875],\n",
       "       [21456.65039062],\n",
       "       [21418.65039062],\n",
       "       [21453.09960938],\n",
       "       [21150.15039062],\n",
       "       [21255.05078125],\n",
       "       [21349.40039062],\n",
       "       [21441.34960938],\n",
       "       [21654.75      ],\n",
       "       [21778.69921875],\n",
       "       [21731.40039062],\n",
       "       [21741.90039062],\n",
       "       [21665.80078125],\n",
       "       [21517.34960938],\n",
       "       [21658.59960938],\n",
       "       [21710.80078125],\n",
       "       [21513.        ],\n",
       "       [21544.84960938],\n",
       "       [21618.69921875],\n",
       "       [21647.19921875],\n",
       "       [21894.55078125],\n",
       "       [22097.44921875],\n",
       "       [22032.30078125],\n",
       "       [21571.94921875],\n",
       "       [21462.25      ],\n",
       "       [21622.40039062],\n",
       "       [21238.80078125],\n",
       "       [21453.94921875],\n",
       "       [21352.59960938],\n",
       "       [21737.59960938],\n",
       "       [21522.09960938],\n",
       "       [21725.69921875],\n",
       "       [21697.44921875],\n",
       "       [21853.80078125],\n",
       "       [21771.69921875],\n",
       "       [21929.40039062],\n",
       "       [21930.5       ],\n",
       "       [21717.94921875],\n",
       "       [21782.5       ],\n",
       "       [21616.05078125],\n",
       "       [21743.25      ],\n",
       "       [21840.05078125],\n",
       "       [21910.75      ],\n",
       "       [22040.69921875],\n",
       "       [22122.25      ],\n",
       "       [22196.94921875],\n",
       "       [22055.05078125],\n",
       "       [22217.44921875],\n",
       "       [22212.69921875],\n",
       "       [22122.05078125],\n",
       "       [22198.34960938],\n",
       "       [21951.15039062],\n",
       "       [21982.80078125],\n",
       "       [22338.75      ],\n",
       "       [22405.59960938],\n",
       "       [22356.30078125],\n",
       "       [22474.05078125],\n",
       "       [22493.55078125],\n",
       "       [22332.65039062],\n",
       "       [22335.69921875],\n",
       "       [21997.69921875],\n",
       "       [22146.65039062],\n",
       "       [22023.34960938],\n",
       "       [22055.69921875],\n",
       "       [21817.44921875],\n",
       "       [21839.09960938],\n",
       "       [22011.94921875],\n",
       "       [22096.75      ],\n",
       "       [22004.69921875],\n",
       "       [22123.65039062],\n",
       "       [22326.90039062],\n",
       "       [22462.        ],\n",
       "       [22453.30078125],\n",
       "       [22434.65039062],\n",
       "       [22514.65039062],\n",
       "       [22513.69921875],\n",
       "       [22666.30078125],\n",
       "       [22642.75      ],\n",
       "       [22753.80078125],\n",
       "       [22519.40039062],\n",
       "       [22272.5       ],\n",
       "       [22147.90039062],\n",
       "       [21995.84960938],\n",
       "       [22147.        ],\n",
       "       [22336.40039062],\n",
       "       [22368.        ],\n",
       "       [22402.40039062],\n",
       "       [22570.34960938],\n",
       "       [22419.94921875],\n",
       "       [22643.40039062],\n",
       "       [22604.84960938],\n",
       "       [22648.19921875],\n",
       "       [22475.84960938],\n",
       "       [22442.69921875],\n",
       "       [22302.5       ],\n",
       "       [22302.5       ],\n",
       "       [21957.5       ],\n",
       "       [22055.19921875],\n",
       "       [22104.05078125],\n",
       "       [22217.84960938],\n",
       "       [22200.55078125],\n",
       "       [22403.84960938],\n",
       "       [22466.09960938],\n",
       "       [22529.05078125],\n",
       "       [22597.80078125],\n",
       "       [22967.65039062],\n",
       "       [22957.09960938],\n",
       "       [22932.44921875],\n",
       "       [22888.15039062],\n",
       "       [22704.69921875],\n",
       "       [22488.65039062],\n",
       "       [22530.69921875],\n",
       "       [23263.90039062],\n",
       "       [21884.5       ],\n",
       "       [22620.34960938],\n",
       "       [22821.40039062],\n",
       "       [23290.15039062],\n",
       "       [23259.19921875],\n",
       "       [23264.84960938],\n",
       "       [23322.94921875],\n",
       "       [23398.90039062],\n",
       "       [23465.59960938],\n",
       "       [23557.90039062],\n",
       "       [23516.        ],\n",
       "       [23567.        ],\n",
       "       [23501.09960938],\n",
       "       [23537.84960938],\n",
       "       [23721.30078125],\n",
       "       [23868.80078125],\n",
       "       [24044.5       ],\n",
       "       [24010.59960938],\n",
       "       [24141.94921875],\n",
       "       [24123.84960938],\n",
       "       [24286.5       ],\n",
       "       [24302.15039062],\n",
       "       [24323.84960938],\n",
       "       [24320.55078125],\n",
       "       [24433.19921875],\n",
       "       [24324.44921875],\n",
       "       [24315.94921875],\n",
       "       [24502.15039062],\n",
       "       [24586.69921875],\n",
       "       [24613.        ],\n",
       "       [24800.84960938],\n",
       "       [24530.90039062],\n",
       "       [24509.25      ],\n",
       "       [24479.05078125],\n",
       "       [24413.5       ],\n",
       "       [24406.09960938],\n",
       "       [24834.84960938],\n",
       "       [24836.09960938],\n",
       "       [24857.30078125],\n",
       "       [24951.15039062],\n",
       "       [25010.90039062],\n",
       "       [24717.69921875],\n",
       "       [24055.59960938],\n",
       "       [23992.55078125],\n",
       "       [24297.5       ],\n",
       "       [24117.        ],\n",
       "       [24367.5       ],\n",
       "       [24347.        ],\n",
       "       [24139.        ],\n",
       "       [24143.75      ],\n",
       "       [24541.15039062],\n",
       "       [24572.65039062],\n",
       "       [24698.84960938],\n",
       "       [24770.19921875],\n",
       "       [24811.5       ],\n",
       "       [24823.15039062],\n",
       "       [25010.59960938],\n",
       "       [25017.75      ],\n",
       "       [25052.34960938],\n",
       "       [25151.94921875],\n",
       "       [25235.90039062],\n",
       "       [25278.69921875],\n",
       "       [25279.84960938],\n",
       "       [25198.69921875],\n",
       "       [25145.09960938],\n",
       "       [24852.15039062],\n",
       "       [24936.40039062],\n",
       "       [25041.09960938],\n",
       "       [24918.44921875],\n",
       "       [25388.90039062],\n",
       "       [25356.5       ],\n",
       "       [25383.75      ],\n",
       "       [25418.55078125],\n",
       "       [25377.55078125],\n",
       "       [25415.80078125],\n",
       "       [25790.94921875],\n",
       "       [25939.05078125],\n",
       "       [25940.40039062],\n",
       "       [26004.15039062],\n",
       "       [26216.05078125],\n",
       "       [26178.94921875],\n",
       "       [25810.84960938]])"
      ]
     },
     "execution_count": 611,
     "metadata": {},
     "output_type": "execute_result"
    }
   ],
   "execution_count": 611
  },
  {
   "metadata": {
    "ExecuteTime": {
     "end_time": "2024-10-30T08:55:47.939401Z",
     "start_time": "2024-10-30T08:55:47.936703Z"
    }
   },
   "cell_type": "code",
   "source": [
    "scaler = MinMaxScaler(feature_range=(0, 1))\n",
    "scaled_data = scaler.fit_transform(data)"
   ],
   "id": "67dc419083af29ec",
   "outputs": [],
   "execution_count": 612
  },
  {
   "metadata": {
    "ExecuteTime": {
     "end_time": "2024-10-30T08:55:47.964562Z",
     "start_time": "2024-10-30T08:55:47.960848Z"
    }
   },
   "cell_type": "code",
   "source": [
    "training_data_len = int(np.ceil(0.8 * len(scaled_data)))\n",
    "\n",
    "train_data = scaled_data[:training_data_len, :]\n",
    "test_data = scaled_data[training_data_len - 60:, :]\n",
    "\n",
    "x_train, y_train = [], []\n",
    "for i in range(60, len(train_data)):\n",
    "    x_train.append(train_data[i-60:i, 0])\n",
    "    y_train.append(train_data[i, 0])\n",
    "\n",
    "x_train, y_train = np.array(x_train), np.array(y_train)\n",
    "\n",
    "x_train = np.reshape(x_train, (x_train.shape[0], x_train.shape[1], 1))"
   ],
   "id": "6ae13167b85b93a6",
   "outputs": [],
   "execution_count": 613
  },
  {
   "metadata": {
    "ExecuteTime": {
     "end_time": "2024-10-30T08:55:48.018035Z",
     "start_time": "2024-10-30T08:55:47.982277Z"
    }
   },
   "cell_type": "code",
   "source": [
    "model = Sequential()\n",
    "model.add(LSTM(units=50, return_sequences=True, input_shape=(x_train.shape[1], 1)))\n",
    "model.add(Dropout(0.2))\n",
    "model.add(LSTM(units=50, return_sequences=False))\n",
    "model.add(Dropout(0.2))\n",
    "model.add(Dense(units=25))\n",
    "model.add(Dense(units=1))"
   ],
   "id": "dee7ce80569925b2",
   "outputs": [
    {
     "name": "stderr",
     "output_type": "stream",
     "text": [
      "/Users/divyanshu/PycharmProjects/MiniProject/.venv/lib/python3.12/site-packages/keras/src/layers/rnn/rnn.py:204: UserWarning: Do not pass an `input_shape`/`input_dim` argument to a layer. When using Sequential models, prefer using an `Input(shape)` object as the first layer in the model instead.\n",
      "  super().__init__(**kwargs)\n"
     ]
    }
   ],
   "execution_count": 614
  },
  {
   "metadata": {
    "ExecuteTime": {
     "end_time": "2024-10-30T08:55:48.088616Z",
     "start_time": "2024-10-30T08:55:48.083590Z"
    }
   },
   "cell_type": "code",
   "source": "model.compile(optimizer='adam', loss='mean_squared_error')",
   "id": "73fa2b2eac287562",
   "outputs": [],
   "execution_count": 615
  },
  {
   "metadata": {
    "ExecuteTime": {
     "end_time": "2024-10-30T08:55:51.337136Z",
     "start_time": "2024-10-30T08:55:48.101431Z"
    }
   },
   "cell_type": "code",
   "source": "model.fit(x_train, y_train, batch_size=32, epochs=23, verbose=1)",
   "id": "ff142a3608f595b",
   "outputs": [
    {
     "name": "stdout",
     "output_type": "stream",
     "text": [
      "Epoch 1/23\n",
      "\u001B[1m5/5\u001B[0m \u001B[32m━━━━━━━━━━━━━━━━━━━━\u001B[0m\u001B[37m\u001B[0m \u001B[1m1s\u001B[0m 16ms/step - loss: 0.2299\n",
      "Epoch 2/23\n",
      "\u001B[1m5/5\u001B[0m \u001B[32m━━━━━━━━━━━━━━━━━━━━\u001B[0m\u001B[37m\u001B[0m \u001B[1m0s\u001B[0m 14ms/step - loss: 0.0262\n",
      "Epoch 3/23\n",
      "\u001B[1m5/5\u001B[0m \u001B[32m━━━━━━━━━━━━━━━━━━━━\u001B[0m\u001B[37m\u001B[0m \u001B[1m0s\u001B[0m 14ms/step - loss: 0.0321\n",
      "Epoch 4/23\n",
      "\u001B[1m5/5\u001B[0m \u001B[32m━━━━━━━━━━━━━━━━━━━━\u001B[0m\u001B[37m\u001B[0m \u001B[1m0s\u001B[0m 15ms/step - loss: 0.0102\n",
      "Epoch 5/23\n",
      "\u001B[1m5/5\u001B[0m \u001B[32m━━━━━━━━━━━━━━━━━━━━\u001B[0m\u001B[37m\u001B[0m \u001B[1m0s\u001B[0m 15ms/step - loss: 0.0137\n",
      "Epoch 6/23\n",
      "\u001B[1m5/5\u001B[0m \u001B[32m━━━━━━━━━━━━━━━━━━━━\u001B[0m\u001B[37m\u001B[0m \u001B[1m0s\u001B[0m 14ms/step - loss: 0.0077\n",
      "Epoch 7/23\n",
      "\u001B[1m5/5\u001B[0m \u001B[32m━━━━━━━━━━━━━━━━━━━━\u001B[0m\u001B[37m\u001B[0m \u001B[1m0s\u001B[0m 13ms/step - loss: 0.0088\n",
      "Epoch 8/23\n",
      "\u001B[1m5/5\u001B[0m \u001B[32m━━━━━━━━━━━━━━━━━━━━\u001B[0m\u001B[37m\u001B[0m \u001B[1m0s\u001B[0m 14ms/step - loss: 0.0087\n",
      "Epoch 9/23\n",
      "\u001B[1m5/5\u001B[0m \u001B[32m━━━━━━━━━━━━━━━━━━━━\u001B[0m\u001B[37m\u001B[0m \u001B[1m0s\u001B[0m 14ms/step - loss: 0.0061\n",
      "Epoch 10/23\n",
      "\u001B[1m5/5\u001B[0m \u001B[32m━━━━━━━━━━━━━━━━━━━━\u001B[0m\u001B[37m\u001B[0m \u001B[1m0s\u001B[0m 15ms/step - loss: 0.0065\n",
      "Epoch 11/23\n",
      "\u001B[1m5/5\u001B[0m \u001B[32m━━━━━━━━━━━━━━━━━━━━\u001B[0m\u001B[37m\u001B[0m \u001B[1m0s\u001B[0m 15ms/step - loss: 0.0068\n",
      "Epoch 12/23\n",
      "\u001B[1m5/5\u001B[0m \u001B[32m━━━━━━━━━━━━━━━━━━━━\u001B[0m\u001B[37m\u001B[0m \u001B[1m0s\u001B[0m 14ms/step - loss: 0.0061\n",
      "Epoch 13/23\n",
      "\u001B[1m5/5\u001B[0m \u001B[32m━━━━━━━━━━━━━━━━━━━━\u001B[0m\u001B[37m\u001B[0m \u001B[1m0s\u001B[0m 15ms/step - loss: 0.0063\n",
      "Epoch 14/23\n",
      "\u001B[1m5/5\u001B[0m \u001B[32m━━━━━━━━━━━━━━━━━━━━\u001B[0m\u001B[37m\u001B[0m \u001B[1m0s\u001B[0m 15ms/step - loss: 0.0042\n",
      "Epoch 15/23\n",
      "\u001B[1m5/5\u001B[0m \u001B[32m━━━━━━━━━━━━━━━━━━━━\u001B[0m\u001B[37m\u001B[0m \u001B[1m0s\u001B[0m 23ms/step - loss: 0.0048\n",
      "Epoch 16/23\n",
      "\u001B[1m5/5\u001B[0m \u001B[32m━━━━━━━━━━━━━━━━━━━━\u001B[0m\u001B[37m\u001B[0m \u001B[1m0s\u001B[0m 15ms/step - loss: 0.0045\n",
      "Epoch 17/23\n",
      "\u001B[1m5/5\u001B[0m \u001B[32m━━━━━━━━━━━━━━━━━━━━\u001B[0m\u001B[37m\u001B[0m \u001B[1m0s\u001B[0m 16ms/step - loss: 0.0047\n",
      "Epoch 18/23\n",
      "\u001B[1m5/5\u001B[0m \u001B[32m━━━━━━━━━━━━━━━━━━━━\u001B[0m\u001B[37m\u001B[0m \u001B[1m0s\u001B[0m 14ms/step - loss: 0.0056\n",
      "Epoch 19/23\n",
      "\u001B[1m5/5\u001B[0m \u001B[32m━━━━━━━━━━━━━━━━━━━━\u001B[0m\u001B[37m\u001B[0m \u001B[1m0s\u001B[0m 15ms/step - loss: 0.0046\n",
      "Epoch 20/23\n",
      "\u001B[1m5/5\u001B[0m \u001B[32m━━━━━━━━━━━━━━━━━━━━\u001B[0m\u001B[37m\u001B[0m \u001B[1m0s\u001B[0m 16ms/step - loss: 0.0046\n",
      "Epoch 21/23\n",
      "\u001B[1m5/5\u001B[0m \u001B[32m━━━━━━━━━━━━━━━━━━━━\u001B[0m\u001B[37m\u001B[0m \u001B[1m0s\u001B[0m 15ms/step - loss: 0.0040\n",
      "Epoch 22/23\n",
      "\u001B[1m5/5\u001B[0m \u001B[32m━━━━━━━━━━━━━━━━━━━━\u001B[0m\u001B[37m\u001B[0m \u001B[1m0s\u001B[0m 16ms/step - loss: 0.0042\n",
      "Epoch 23/23\n",
      "\u001B[1m5/5\u001B[0m \u001B[32m━━━━━━━━━━━━━━━━━━━━\u001B[0m\u001B[37m\u001B[0m \u001B[1m0s\u001B[0m 15ms/step - loss: 0.0036\n"
     ]
    },
    {
     "data": {
      "text/plain": [
       "<keras.src.callbacks.history.History at 0x35be4b4d0>"
      ]
     },
     "execution_count": 616,
     "metadata": {},
     "output_type": "execute_result"
    }
   ],
   "execution_count": 616
  },
  {
   "metadata": {
    "ExecuteTime": {
     "end_time": "2024-10-30T08:55:51.700320Z",
     "start_time": "2024-10-30T08:55:51.454550Z"
    }
   },
   "cell_type": "code",
   "source": [
    "x_test, y_test = [], data[training_data_len:, :]\n",
    "for i in range(60, len(test_data)):\n",
    "    x_test.append(test_data[i-60:i, 0])\n",
    "\n",
    "x_test = np.array(x_test)\n",
    "x_test = np.reshape(x_test, (x_test.shape[0], x_test.shape[1], 1))\n",
    "\n",
    "# Get predicted prices\n",
    "predictions = model.predict(x_test)\n",
    "predictions = scaler.inverse_transform(predictions)"
   ],
   "id": "d7307fd07d926796",
   "outputs": [
    {
     "name": "stdout",
     "output_type": "stream",
     "text": [
      "\u001B[1m2/2\u001B[0m \u001B[32m━━━━━━━━━━━━━━━━━━━━\u001B[0m\u001B[37m\u001B[0m \u001B[1m0s\u001B[0m 95ms/step\n"
     ]
    }
   ],
   "execution_count": 617
  },
  {
   "metadata": {
    "ExecuteTime": {
     "end_time": "2024-10-30T08:55:52.075392Z",
     "start_time": "2024-10-30T08:55:51.703612Z"
    }
   },
   "cell_type": "code",
   "source": [
    "future_steps = 20\n",
    "last_sequence = test_data[-60:].reshape(1, 60, 1)\n",
    "future_predictions = []\n",
    "\n",
    "for i in range(future_steps):\n",
    "    next_price = model.predict(last_sequence)\n",
    "    future_predictions.append(next_price[0, 0])\n",
    "\n",
    "    # Corrected the reshaping for next_price to match the dimensions of last_sequence\n",
    "    last_sequence = np.append(last_sequence[:, 1:, :], np.reshape(next_price, (1, 1, 1)), axis=1)\n",
    "\n",
    "# Inverse scale future predictions\n",
    "future_predictions = scaler.inverse_transform(np.array(future_predictions).reshape(-1, 1))"
   ],
   "id": "8446f4a0c1e5f811",
   "outputs": [
    {
     "name": "stdout",
     "output_type": "stream",
     "text": [
      "\u001B[1m1/1\u001B[0m \u001B[32m━━━━━━━━━━━━━━━━━━━━\u001B[0m\u001B[37m\u001B[0m \u001B[1m0s\u001B[0m 8ms/step\n",
      "\u001B[1m1/1\u001B[0m \u001B[32m━━━━━━━━━━━━━━━━━━━━\u001B[0m\u001B[37m\u001B[0m \u001B[1m0s\u001B[0m 8ms/step\n",
      "\u001B[1m1/1\u001B[0m \u001B[32m━━━━━━━━━━━━━━━━━━━━\u001B[0m\u001B[37m\u001B[0m \u001B[1m0s\u001B[0m 7ms/step\n",
      "\u001B[1m1/1\u001B[0m \u001B[32m━━━━━━━━━━━━━━━━━━━━\u001B[0m\u001B[37m\u001B[0m \u001B[1m0s\u001B[0m 7ms/step\n",
      "\u001B[1m1/1\u001B[0m \u001B[32m━━━━━━━━━━━━━━━━━━━━\u001B[0m\u001B[37m\u001B[0m \u001B[1m0s\u001B[0m 7ms/step\n",
      "\u001B[1m1/1\u001B[0m \u001B[32m━━━━━━━━━━━━━━━━━━━━\u001B[0m\u001B[37m\u001B[0m \u001B[1m0s\u001B[0m 7ms/step\n",
      "\u001B[1m1/1\u001B[0m \u001B[32m━━━━━━━━━━━━━━━━━━━━\u001B[0m\u001B[37m\u001B[0m \u001B[1m0s\u001B[0m 8ms/step\n",
      "\u001B[1m1/1\u001B[0m \u001B[32m━━━━━━━━━━━━━━━━━━━━\u001B[0m\u001B[37m\u001B[0m \u001B[1m0s\u001B[0m 7ms/step\n",
      "\u001B[1m1/1\u001B[0m \u001B[32m━━━━━━━━━━━━━━━━━━━━\u001B[0m\u001B[37m\u001B[0m \u001B[1m0s\u001B[0m 7ms/step\n",
      "\u001B[1m1/1\u001B[0m \u001B[32m━━━━━━━━━━━━━━━━━━━━\u001B[0m\u001B[37m\u001B[0m \u001B[1m0s\u001B[0m 7ms/step\n",
      "\u001B[1m1/1\u001B[0m \u001B[32m━━━━━━━━━━━━━━━━━━━━\u001B[0m\u001B[37m\u001B[0m \u001B[1m0s\u001B[0m 7ms/step\n",
      "\u001B[1m1/1\u001B[0m \u001B[32m━━━━━━━━━━━━━━━━━━━━\u001B[0m\u001B[37m\u001B[0m \u001B[1m0s\u001B[0m 7ms/step\n",
      "\u001B[1m1/1\u001B[0m \u001B[32m━━━━━━━━━━━━━━━━━━━━\u001B[0m\u001B[37m\u001B[0m \u001B[1m0s\u001B[0m 7ms/step\n",
      "\u001B[1m1/1\u001B[0m \u001B[32m━━━━━━━━━━━━━━━━━━━━\u001B[0m\u001B[37m\u001B[0m \u001B[1m0s\u001B[0m 7ms/step\n",
      "\u001B[1m1/1\u001B[0m \u001B[32m━━━━━━━━━━━━━━━━━━━━\u001B[0m\u001B[37m\u001B[0m \u001B[1m0s\u001B[0m 7ms/step\n",
      "\u001B[1m1/1\u001B[0m \u001B[32m━━━━━━━━━━━━━━━━━━━━\u001B[0m\u001B[37m\u001B[0m \u001B[1m0s\u001B[0m 7ms/step\n",
      "\u001B[1m1/1\u001B[0m \u001B[32m━━━━━━━━━━━━━━━━━━━━\u001B[0m\u001B[37m\u001B[0m \u001B[1m0s\u001B[0m 7ms/step\n",
      "\u001B[1m1/1\u001B[0m \u001B[32m━━━━━━━━━━━━━━━━━━━━\u001B[0m\u001B[37m\u001B[0m \u001B[1m0s\u001B[0m 6ms/step\n",
      "\u001B[1m1/1\u001B[0m \u001B[32m━━━━━━━━━━━━━━━━━━━━\u001B[0m\u001B[37m\u001B[0m \u001B[1m0s\u001B[0m 7ms/step\n",
      "\u001B[1m1/1\u001B[0m \u001B[32m━━━━━━━━━━━━━━━━━━━━\u001B[0m\u001B[37m\u001B[0m \u001B[1m0s\u001B[0m 7ms/step\n"
     ]
    }
   ],
   "execution_count": 618
  },
  {
   "metadata": {
    "ExecuteTime": {
     "end_time": "2024-10-30T08:55:52.193600Z",
     "start_time": "2024-10-30T08:55:52.086547Z"
    }
   },
   "cell_type": "code",
   "source": [
    "plt.figure(figsize=(10,6))\n",
    "plt.plot(df.index[training_data_len:], y_test, label='Actual Prices')\n",
    "plt.plot(df.index[training_data_len:], predictions, label='Predicted Prices', color='red')\n",
    "\n",
    "# Create future date range for the next 30 days\n",
    "future_dates = pd.date_range(start=df.index[-1], periods=future_steps + 1, freq='B')[1:]\n",
    "\n",
    "plt.plot(future_dates, future_predictions, label='Future Predicted Prices', color='green')\n",
    "plt.title(f'{ticker} Stock Price Prediction with LSTM')\n",
    "plt.xlabel('Date')\n",
    "plt.ylabel('Stock Price')\n",
    "plt.legend()\n",
    "plt.show()"
   ],
   "id": "6cb06fad450e4a4e",
   "outputs": [
    {
     "data": {
      "text/plain": [
       "<Figure size 1000x600 with 1 Axes>"
      ],
      "image/png": "[encoded data removed]"
     },
     "metadata": {},
     "output_type": "display_data"
    }
   ],
   "execution_count": 619
  },
  {
   "metadata": {
    "ExecuteTime": {
     "end_time": "2024-10-30T08:55:52.209696Z",
     "start_time": "2024-10-30T08:55:52.206735Z"
    }
   },
   "cell_type": "code",
   "source": [
    "forecasted_values = np.array(future_predictions)\n",
    "forecasted_values"
   ],
   "id": "ebc343d1a3f7e191",
   "outputs": [
    {
     "data": {
      "text/plain": [
       "array([[25687.074],\n",
       "       [25729.293],\n",
       "       [25759.383],\n",
       "       [25781.16 ],\n",
       "       [25797.234],\n",
       "       [25809.404],\n",
       "       [25818.908],\n",
       "       [25826.602],\n",
       "       [25833.074],\n",
       "       [25838.738],\n",
       "       [25843.87 ],\n",
       "       [25848.654],\n",
       "       [25853.225],\n",
       "       [25857.664],\n",
       "       [25862.021],\n",
       "       [25866.336],\n",
       "       [25870.629],\n",
       "       [25874.91 ],\n",
       "       [25879.188],\n",
       "       [25883.463]], dtype=float32)"
      ]
     },
     "execution_count": 620,
     "metadata": {},
     "output_type": "execute_result"
    }
   ],
   "execution_count": 620
  },
  {
   "metadata": {
    "ExecuteTime": {
     "end_time": "2024-10-30T08:55:52.252403Z",
     "start_time": "2024-10-30T08:55:52.220723Z"
    }
   },
   "cell_type": "code",
   "source": [
    "from sklearn.metrics import mean_absolute_error, mean_squared_error\n",
    "\n",
    "raw_actual = yf.download(ticker, start='2024-10-01', end='2024-10-30')"
   ],
   "id": "ddd222f01e04beea",
   "outputs": [
    {
     "name": "stderr",
     "output_type": "stream",
     "text": [
      "[*********************100%***********************]  1 of 1 completed\n"
     ]
    }
   ],
   "execution_count": 621
  },
  {
   "metadata": {
    "ExecuteTime": {
     "end_time": "2024-10-30T08:55:52.278329Z",
     "start_time": "2024-10-30T08:55:52.274233Z"
    }
   },
   "cell_type": "code",
   "source": [
    "raw_actual.dropna(inplace=True)\n",
    "actual_values = np.array(raw_actual['Close'])\n",
    "\n",
    "actual_values"
   ],
   "id": "dbda25ac8dbfaed9",
   "outputs": [
    {
     "data": {
      "text/plain": [
       "array([[25796.90039062],\n",
       "       [25250.09960938],\n",
       "       [25014.59960938],\n",
       "       [24795.75      ],\n",
       "       [25013.15039062],\n",
       "       [24981.94921875],\n",
       "       [24998.44921875],\n",
       "       [24964.25      ],\n",
       "       [25127.94921875],\n",
       "       [25057.34960938],\n",
       "       [24971.30078125],\n",
       "       [24749.84960938],\n",
       "       [24854.05078125],\n",
       "       [24781.09960938],\n",
       "       [24472.09960938],\n",
       "       [24435.5       ],\n",
       "       [24399.40039062],\n",
       "       [24180.80078125],\n",
       "       [24339.15039062],\n",
       "       [24466.84960938]])"
      ]
     },
     "execution_count": 622,
     "metadata": {},
     "output_type": "execute_result"
    }
   ],
   "execution_count": 622
  },
  {
   "metadata": {
    "ExecuteTime": {
     "end_time": "2024-10-30T08:55:52.308350Z",
     "start_time": "2024-10-30T08:55:52.305048Z"
    }
   },
   "cell_type": "code",
   "source": "mape = np.mean(np.abs((actual_values - forecasted_values) / actual_values)) * 100",
   "id": "c2c68264e1506229",
   "outputs": [],
   "execution_count": 623
  },
  {
   "metadata": {
    "ExecuteTime": {
     "end_time": "2024-10-30T08:55:52.351427Z",
     "start_time": "2024-10-30T08:55:52.348911Z"
    }
   },
   "cell_type": "code",
   "source": "mae = mean_absolute_error(actual_values, forecasted_values)",
   "id": "3cc0d31c377c616d",
   "outputs": [],
   "execution_count": 624
  },
  {
   "metadata": {
    "ExecuteTime": {
     "end_time": "2024-10-30T08:55:52.399171Z",
     "start_time": "2024-10-30T08:55:52.396972Z"
    }
   },
   "cell_type": "code",
   "source": "rmse = np.sqrt(mean_squared_error(actual_values, forecasted_values))",
   "id": "122814aeac0e3d63",
   "outputs": [],
   "execution_count": 625
  },
  {
   "metadata": {
    "ExecuteTime": {
     "end_time": "2024-10-30T08:55:52.403906Z",
     "start_time": "2024-10-30T08:55:52.402277Z"
    }
   },
   "cell_type": "code",
   "source": [
    "print(f\"Mean Absolute Percentage Error (MAPE): {mape:.2f}%\")\n",
    "print(f\"Mean Absolute Error (MAE): {mae:.2f}\")\n",
    "print(f\"Root Mean Squared Error (RMSE): {rmse:.2f}\")"
   ],
   "id": "4a84f4b6c0308851",
   "outputs": [
    {
     "name": "stdout",
     "output_type": "stream",
     "text": [
      "Mean Absolute Percentage Error (MAPE): 4.07%\n",
      "Mean Absolute Error (MAE): 1004.50\n",
      "Root Mean Squared Error (RMSE): 1074.94\n"
     ]
    }
   ],
   "execution_count": 626
  },
  {
   "metadata": {
    "ExecuteTime": {
     "end_time": "2024-10-30T09:13:49.373680Z",
     "start_time": "2024-10-30T09:13:49.212653Z"
    }
   },
   "cell_type": "code",
   "source": [
    "df_lstm = pd.DataFrame(forecasted_values)\n",
    "df_lstm.dropna(inplace=True)\n",
    "df_lstm.to_csv('/Users/divyanshu/PycharmProjects/MiniProject/lstm.csv')"
   ],
   "id": "7ac98baed42a9db4",
   "outputs": [],
   "execution_count": 627
  }
 ],
 "metadata": {
  "kernelspec": {
   "display_name": "Python 3",
   "language": "python",
   "name": "python3"
  },
  "language_info": {
   "codemirror_mode": {
    "name": "ipython",
    "version": 2
   },
   "file_extension": ".py",
   "mimetype": "text/x-python",
   "name": "python",
   "nbconvert_exporter": "python",
   "pygments_lexer": "ipython2",
   "version": "2.7.6"
  }
 },
 "nbformat": 4,
 "nbformat_minor": 5
}
