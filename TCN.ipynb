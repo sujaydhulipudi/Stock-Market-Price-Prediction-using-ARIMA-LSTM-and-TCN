{
 "cells": [
  {
   "cell_type": "code",
   "id": "initial_id",
   "metadata": {
    "collapsed": true,
    "ExecuteTime": {
     "end_time": "2024-10-30T06:30:20.142738Z",
     "start_time": "2024-10-30T06:30:20.137014Z"
    }
   },
   "source": [
    "import yfinance as yf\n",
    "import pandas as pd\n",
    "import numpy as np\n",
    "from sklearn.preprocessing import MinMaxScaler\n",
    "from tensorflow.keras.models import Sequential\n",
    "from tensorflow.keras.layers import Dense\n",
    "from tcn import TCN\n",
    "import matplotlib.pyplot as plt"
   ],
   "outputs": [],
   "execution_count": 3
  },
  {
   "metadata": {
    "ExecuteTime": {
     "end_time": "2024-10-30T06:30:31.764722Z",
     "start_time": "2024-10-30T06:30:31.715602Z"
    }
   },
   "cell_type": "code",
   "source": [
    "ticker = '^NSEI'\n",
    "df = yf.download(ticker, start='2023-10-01', end='2024-10-01')"
   ],
   "id": "748632c34cfc13fd",
   "outputs": [
    {
     "name": "stderr",
     "output_type": "stream",
     "text": [
      "[*********************100%***********************]  1 of 1 completed\n"
     ]
    }
   ],
   "execution_count": 5
  },
  {
   "metadata": {
    "ExecuteTime": {
     "end_time": "2024-10-30T06:30:45.450424Z",
     "start_time": "2024-10-30T06:30:45.442363Z"
    }
   },
   "cell_type": "code",
   "source": [
    "data = df['Close'].values\n",
    "data = data.reshape(-1, 1)"
   ],
   "id": "bafa812613b5a755",
   "outputs": [],
   "execution_count": 6
  },
  {
   "metadata": {
    "ExecuteTime": {
     "end_time": "2024-10-30T06:30:57.897588Z",
     "start_time": "2024-10-30T06:30:57.889192Z"
    }
   },
   "cell_type": "code",
   "source": [
    "scaler = MinMaxScaler(feature_range=(0, 1))\n",
    "scaled_data = scaler.fit_transform(data)"
   ],
   "id": "dd07eba24761a815",
   "outputs": [],
   "execution_count": 7
  },
  {
   "metadata": {
    "ExecuteTime": {
     "end_time": "2024-10-30T06:31:24.584208Z",
     "start_time": "2024-10-30T06:31:24.578352Z"
    }
   },
   "cell_type": "code",
   "source": "training_data_len = int(np.ceil(0.8 * len(scaled_data)))",
   "id": "93f79b464eeb2697",
   "outputs": [],
   "execution_count": 8
  },
  {
   "metadata": {
    "ExecuteTime": {
     "end_time": "2024-10-30T06:31:34.301583Z",
     "start_time": "2024-10-30T06:31:34.295560Z"
    }
   },
   "cell_type": "code",
   "source": [
    "train_data = scaled_data[:training_data_len, :]\n",
    "test_data = scaled_data[training_data_len - 60:, :]"
   ],
   "id": "5c6075fcf9466843",
   "outputs": [],
   "execution_count": 9
  },
  {
   "metadata": {
    "ExecuteTime": {
     "end_time": "2024-10-30T06:31:50.198691Z",
     "start_time": "2024-10-30T06:31:50.192609Z"
    }
   },
   "cell_type": "code",
   "source": [
    "x_train, y_train = [], []\n",
    "for i in range(60, len(train_data)):\n",
    "    x_train.append(train_data[i-60:i, 0])\n",
    "    y_train.append(train_data[i, 0])\n",
    "\n",
    "x_train, y_train = np.array(x_train), np.array(y_train)"
   ],
   "id": "e4c6cd769a566689",
   "outputs": [],
   "execution_count": 10
  },
  {
   "metadata": {
    "ExecuteTime": {
     "end_time": "2024-10-30T06:32:03.252074Z",
     "start_time": "2024-10-30T06:32:03.245144Z"
    }
   },
   "cell_type": "code",
   "source": "x_train = np.reshape(x_train, (x_train.shape[0], x_train.shape[1], 1))",
   "id": "be184fcc07a35482",
   "outputs": [],
   "execution_count": 11
  },
  {
   "metadata": {
    "ExecuteTime": {
     "end_time": "2024-10-30T06:33:03.924452Z",
     "start_time": "2024-10-30T06:33:03.867781Z"
    }
   },
   "cell_type": "code",
   "source": [
    "model = Sequential()\n",
    "# Explicitly define the input_shape using a tuple\n",
    "model.add(TCN(input_shape=(x_train.shape[1], x_train.shape[2])))\n",
    "model.add(Dense(1))\n",
    "\n",
    "model.compile(optimizer='adam', loss='mean_absolute_error')"
   ],
   "id": "aafbd766e9968110",
   "outputs": [
    {
     "name": "stderr",
     "output_type": "stream",
     "text": [
      "/Users/divyanshu/PycharmProjects/MiniProject/.venv/lib/python3.12/site-packages/tcn/tcn.py:227: UserWarning: Do not pass an `input_shape`/`input_dim` argument to a layer. When using Sequential models, prefer using an `Input(shape)` object as the first layer in the model instead.\n",
      "  super(TCN, self).__init__(**kwargs)\n"
     ]
    }
   ],
   "execution_count": 15
  },
  {
   "metadata": {
    "ExecuteTime": {
     "end_time": "2024-10-30T06:33:27.789555Z",
     "start_time": "2024-10-30T06:33:23.850377Z"
    }
   },
   "cell_type": "code",
   "source": "model.fit(x_train, y_train, batch_size=1, epochs=10)",
   "id": "8ac5c827a1a86c3f",
   "outputs": [
    {
     "name": "stdout",
     "output_type": "stream",
     "text": [
      "Epoch 1/10\n",
      "\u001B[1m136/136\u001B[0m \u001B[32m━━━━━━━━━━━━━━━━━━━━\u001B[0m\u001B[37m\u001B[0m \u001B[1m1s\u001B[0m 2ms/step - loss: 1.1453\n",
      "Epoch 2/10\n",
      "\u001B[1m136/136\u001B[0m \u001B[32m━━━━━━━━━━━━━━━━━━━━\u001B[0m\u001B[37m\u001B[0m \u001B[1m0s\u001B[0m 2ms/step - loss: 0.3539\n",
      "Epoch 3/10\n",
      "\u001B[1m136/136\u001B[0m \u001B[32m━━━━━━━━━━━━━━━━━━━━\u001B[0m\u001B[37m\u001B[0m \u001B[1m0s\u001B[0m 2ms/step - loss: 0.1869\n",
      "Epoch 4/10\n",
      "\u001B[1m136/136\u001B[0m \u001B[32m━━━━━━━━━━━━━━━━━━━━\u001B[0m\u001B[37m\u001B[0m \u001B[1m0s\u001B[0m 2ms/step - loss: 0.1402\n",
      "Epoch 5/10\n",
      "\u001B[1m136/136\u001B[0m \u001B[32m━━━━━━━━━━━━━━━━━━━━\u001B[0m\u001B[37m\u001B[0m \u001B[1m0s\u001B[0m 2ms/step - loss: 0.1053\n",
      "Epoch 6/10\n",
      "\u001B[1m136/136\u001B[0m \u001B[32m━━━━━━━━━━━━━━━━━━━━\u001B[0m\u001B[37m\u001B[0m \u001B[1m0s\u001B[0m 2ms/step - loss: 0.1087\n",
      "Epoch 7/10\n",
      "\u001B[1m136/136\u001B[0m \u001B[32m━━━━━━━━━━━━━━━━━━━━\u001B[0m\u001B[37m\u001B[0m \u001B[1m0s\u001B[0m 2ms/step - loss: 0.0800\n",
      "Epoch 8/10\n",
      "\u001B[1m136/136\u001B[0m \u001B[32m━━━━━━━━━━━━━━━━━━━━\u001B[0m\u001B[37m\u001B[0m \u001B[1m0s\u001B[0m 2ms/step - loss: 0.0859\n",
      "Epoch 9/10\n",
      "\u001B[1m136/136\u001B[0m \u001B[32m━━━━━━━━━━━━━━━━━━━━\u001B[0m\u001B[37m\u001B[0m \u001B[1m0s\u001B[0m 2ms/step - loss: 0.0745\n",
      "Epoch 10/10\n",
      "\u001B[1m136/136\u001B[0m \u001B[32m━━━━━━━━━━━━━━━━━━━━\u001B[0m\u001B[37m\u001B[0m \u001B[1m0s\u001B[0m 2ms/step - loss: 0.0773\n"
     ]
    },
    {
     "data": {
      "text/plain": [
       "<keras.src.callbacks.history.History at 0x15eb41eb0>"
      ]
     },
     "execution_count": 16,
     "metadata": {},
     "output_type": "execute_result"
    }
   ],
   "execution_count": 16
  },
  {
   "metadata": {
    "ExecuteTime": {
     "end_time": "2024-10-30T06:34:43.232239Z",
     "start_time": "2024-10-30T06:34:42.806914Z"
    }
   },
   "cell_type": "code",
   "source": [
    "x_test, y_test = [], data[training_data_len:, :]\n",
    "for i in range(60, len(test_data)):\n",
    "    x_test.append(test_data[i-60:i, 0])\n",
    "\n",
    "x_test = np.array(x_test)\n",
    "x_test = np.reshape(x_test, (x_test.shape[0], x_test.shape[1], 1))\n",
    "\n",
    "# Get predicted prices\n",
    "predictions = model.predict(x_test)\n",
    "predictions = scaler.inverse_transform(predictions)"
   ],
   "id": "3f017f1baf6acba2",
   "outputs": [
    {
     "name": "stdout",
     "output_type": "stream",
     "text": [
      "\u001B[1m2/2\u001B[0m \u001B[32m━━━━━━━━━━━━━━━━━━━━\u001B[0m\u001B[37m\u001B[0m \u001B[1m0s\u001B[0m 126ms/step\n"
     ]
    }
   ],
   "execution_count": 17
  },
  {
   "metadata": {
    "ExecuteTime": {
     "end_time": "2024-10-30T09:01:17.906552Z",
     "start_time": "2024-10-30T09:01:16.640380Z"
    }
   },
   "cell_type": "code",
   "source": [
    "future_steps = 20\n",
    "last_sequence = test_data[-60:].reshape(1, 60, 1)\n",
    "future_predictions = []\n",
    "\n",
    "for i in range(future_steps):\n",
    "    next_price = model.predict(last_sequence)\n",
    "    future_predictions.append(next_price[0, 0])\n",
    "    last_sequence = np.append(last_sequence[:, 1:, :], np.reshape(next_price, (1, 1, 1)), axis=1)\n",
    "\n",
    "# Inverse scale future predictions\n",
    "future_predictions = scaler.inverse_transform(np.array(future_predictions).reshape(-1, 1))"
   ],
   "id": "6398d37286db438b",
   "outputs": [
    {
     "name": "stdout",
     "output_type": "stream",
     "text": [
      "\u001B[1m1/1\u001B[0m \u001B[32m━━━━━━━━━━━━━━━━━━━━\u001B[0m\u001B[37m\u001B[0m \u001B[1m0s\u001B[0m 122ms/step\n",
      "\u001B[1m1/1\u001B[0m \u001B[32m━━━━━━━━━━━━━━━━━━━━\u001B[0m\u001B[37m\u001B[0m \u001B[1m0s\u001B[0m 71ms/step\n",
      "\u001B[1m1/1\u001B[0m \u001B[32m━━━━━━━━━━━━━━━━━━━━\u001B[0m\u001B[37m\u001B[0m \u001B[1m0s\u001B[0m 9ms/step\n",
      "\u001B[1m1/1\u001B[0m \u001B[32m━━━━━━━━━━━━━━━━━━━━\u001B[0m\u001B[37m\u001B[0m \u001B[1m0s\u001B[0m 11ms/step\n",
      "\u001B[1m1/1\u001B[0m \u001B[32m━━━━━━━━━━━━━━━━━━━━\u001B[0m\u001B[37m\u001B[0m \u001B[1m0s\u001B[0m 16ms/step\n",
      "\u001B[1m1/1\u001B[0m \u001B[32m━━━━━━━━━━━━━━━━━━━━\u001B[0m\u001B[37m\u001B[0m \u001B[1m0s\u001B[0m 9ms/step\n",
      "\u001B[1m1/1\u001B[0m \u001B[32m━━━━━━━━━━━━━━━━━━━━\u001B[0m\u001B[37m\u001B[0m \u001B[1m0s\u001B[0m 9ms/step\n",
      "\u001B[1m1/1\u001B[0m \u001B[32m━━━━━━━━━━━━━━━━━━━━\u001B[0m\u001B[37m\u001B[0m \u001B[1m0s\u001B[0m 8ms/step\n",
      "\u001B[1m1/1\u001B[0m \u001B[32m━━━━━━━━━━━━━━━━━━━━\u001B[0m\u001B[37m\u001B[0m \u001B[1m0s\u001B[0m 15ms/step\n",
      "\u001B[1m1/1\u001B[0m \u001B[32m━━━━━━━━━━━━━━━━━━━━\u001B[0m\u001B[37m\u001B[0m \u001B[1m0s\u001B[0m 9ms/step\n",
      "\u001B[1m1/1\u001B[0m \u001B[32m━━━━━━━━━━━━━━━━━━━━\u001B[0m\u001B[37m\u001B[0m \u001B[1m0s\u001B[0m 35ms/step\n",
      "\u001B[1m1/1\u001B[0m \u001B[32m━━━━━━━━━━━━━━━━━━━━\u001B[0m\u001B[37m\u001B[0m \u001B[1m0s\u001B[0m 10ms/step\n",
      "\u001B[1m1/1\u001B[0m \u001B[32m━━━━━━━━━━━━━━━━━━━━\u001B[0m\u001B[37m\u001B[0m \u001B[1m0s\u001B[0m 7ms/step\n",
      "\u001B[1m1/1\u001B[0m \u001B[32m━━━━━━━━━━━━━━━━━━━━\u001B[0m\u001B[37m\u001B[0m \u001B[1m0s\u001B[0m 16ms/step\n",
      "\u001B[1m1/1\u001B[0m \u001B[32m━━━━━━━━━━━━━━━━━━━━\u001B[0m\u001B[37m\u001B[0m \u001B[1m0s\u001B[0m 9ms/step\n",
      "\u001B[1m1/1\u001B[0m \u001B[32m━━━━━━━━━━━━━━━━━━━━\u001B[0m\u001B[37m\u001B[0m \u001B[1m0s\u001B[0m 7ms/step\n",
      "\u001B[1m1/1\u001B[0m \u001B[32m━━━━━━━━━━━━━━━━━━━━\u001B[0m\u001B[37m\u001B[0m \u001B[1m0s\u001B[0m 8ms/step\n",
      "\u001B[1m1/1\u001B[0m \u001B[32m━━━━━━━━━━━━━━━━━━━━\u001B[0m\u001B[37m\u001B[0m \u001B[1m0s\u001B[0m 7ms/step\n",
      "\u001B[1m1/1\u001B[0m \u001B[32m━━━━━━━━━━━━━━━━━━━━\u001B[0m\u001B[37m\u001B[0m \u001B[1m0s\u001B[0m 7ms/step\n",
      "\u001B[1m1/1\u001B[0m \u001B[32m━━━━━━━━━━━━━━━━━━━━\u001B[0m\u001B[37m\u001B[0m \u001B[1m0s\u001B[0m 7ms/step\n"
     ]
    }
   ],
   "execution_count": 41
  },
  {
   "metadata": {
    "ExecuteTime": {
     "end_time": "2024-10-30T09:01:19.850003Z",
     "start_time": "2024-10-30T09:01:19.705748Z"
    }
   },
   "cell_type": "code",
   "source": [
    "plt.figure(figsize=(10,6))\n",
    "plt.plot(df.index[training_data_len:], y_test, label='Actual Prices')\n",
    "plt.plot(df.index[training_data_len:], predictions, label='Predicted Prices', color='red')\n",
    "\n",
    "# Create future date range for the next 30 days\n",
    "future_dates = pd.date_range(start=df.index[-1], periods=future_steps + 1, freq='B')[1:]\n",
    "\n",
    "plt.plot(future_dates, future_predictions, label='Future Predicted Prices', color='green')\n",
    "plt.title(f'{ticker} Stock Price Prediction with TCN')\n",
    "plt.xlabel('Date')\n",
    "plt.ylabel('Stock Price')\n",
    "plt.legend()\n",
    "plt.show()"
   ],
   "id": "f174e0b2fa46d02e",
   "outputs": [
    {
     "data": {
      "text/plain": [
       "<Figure size 1000x600 with 1 Axes>"
      ],
      "image/png": "[encoded data removed]"
     },
     "metadata": {},
     "output_type": "display_data"
    }
   ],
   "execution_count": 42
  },
  {
   "metadata": {
    "ExecuteTime": {
     "end_time": "2024-10-30T09:01:27.333250Z",
     "start_time": "2024-10-30T09:01:27.324817Z"
    }
   },
   "cell_type": "code",
   "source": [
    "from sklearn.metrics import mean_absolute_error, mean_squared_error\n",
    "\n",
    "forecasted_values = np.array(future_predictions)\n",
    "forecasted_values"
   ],
   "id": "f83f88ad60bc2055",
   "outputs": [
    {
     "data": {
      "text/plain": [
       "array([[25604.27 ],\n",
       "       [25610.83 ],\n",
       "       [25569.89 ],\n",
       "       [25540.896],\n",
       "       [25635.74 ],\n",
       "       [25850.264],\n",
       "       [26059.951],\n",
       "       [26351.85 ],\n",
       "       [26391.402],\n",
       "       [26209.584],\n",
       "       [26012.537],\n",
       "       [25774.816],\n",
       "       [25513.703],\n",
       "       [25236.73 ],\n",
       "       [25006.887],\n",
       "       [24981.613],\n",
       "       [25172.225],\n",
       "       [25387.986],\n",
       "       [25439.67 ],\n",
       "       [25387.979]], dtype=float32)"
      ]
     },
     "execution_count": 43,
     "metadata": {},
     "output_type": "execute_result"
    }
   ],
   "execution_count": 43
  },
  {
   "metadata": {
    "ExecuteTime": {
     "end_time": "2024-10-30T09:02:08.353691Z",
     "start_time": "2024-10-30T09:02:08.061467Z"
    }
   },
   "cell_type": "code",
   "source": "raw_actual = yf.download(ticker, start='2024-10-01', end='2024-10-30')",
   "id": "33faf9cbe4ce0a43",
   "outputs": [
    {
     "name": "stderr",
     "output_type": "stream",
     "text": [
      "[*********************100%***********************]  1 of 1 completed\n"
     ]
    }
   ],
   "execution_count": 47
  },
  {
   "metadata": {
    "ExecuteTime": {
     "end_time": "2024-10-30T09:02:09.634632Z",
     "start_time": "2024-10-30T09:02:09.629785Z"
    }
   },
   "cell_type": "code",
   "source": [
    "raw_actual.dropna(inplace=True)\n",
    "actual_values = np.array(raw_actual['Close'])\n",
    "\n",
    "actual_values"
   ],
   "id": "8b64819a46d0b048",
   "outputs": [
    {
     "data": {
      "text/plain": [
       "array([[25796.90039062],\n",
       "       [25250.09960938],\n",
       "       [25014.59960938],\n",
       "       [24795.75      ],\n",
       "       [25013.15039062],\n",
       "       [24981.94921875],\n",
       "       [24998.44921875],\n",
       "       [24964.25      ],\n",
       "       [25127.94921875],\n",
       "       [25057.34960938],\n",
       "       [24971.30078125],\n",
       "       [24749.84960938],\n",
       "       [24854.05078125],\n",
       "       [24781.09960938],\n",
       "       [24472.09960938],\n",
       "       [24435.5       ],\n",
       "       [24399.40039062],\n",
       "       [24180.80078125],\n",
       "       [24339.15039062],\n",
       "       [24466.84960938]])"
      ]
     },
     "execution_count": 48,
     "metadata": {},
     "output_type": "execute_result"
    }
   ],
   "execution_count": 48
  },
  {
   "metadata": {
    "ExecuteTime": {
     "end_time": "2024-10-30T09:02:11.913558Z",
     "start_time": "2024-10-30T09:02:11.910874Z"
    }
   },
   "cell_type": "code",
   "source": "mape = np.mean(np.abs((actual_values - forecasted_values) / actual_values)) * 100",
   "id": "6766502ff7fb9b41",
   "outputs": [],
   "execution_count": 49
  },
  {
   "metadata": {
    "ExecuteTime": {
     "end_time": "2024-10-30T09:02:13.429003Z",
     "start_time": "2024-10-30T09:02:13.411068Z"
    }
   },
   "cell_type": "code",
   "source": "mae = mean_absolute_error(actual_values, forecasted_values)",
   "id": "4e45e2a50e5c1f78",
   "outputs": [],
   "execution_count": 50
  },
  {
   "metadata": {
    "ExecuteTime": {
     "end_time": "2024-10-30T09:02:14.276189Z",
     "start_time": "2024-10-30T09:02:14.268268Z"
    }
   },
   "cell_type": "code",
   "source": "rmse = np.sqrt(mean_squared_error(actual_values, forecasted_values))",
   "id": "e380ead3191ef6fa",
   "outputs": [],
   "execution_count": 51
  },
  {
   "metadata": {
    "ExecuteTime": {
     "end_time": "2024-10-30T09:02:14.928741Z",
     "start_time": "2024-10-30T09:02:14.923426Z"
    }
   },
   "cell_type": "code",
   "source": [
    "print(f\"Mean Absolute Percentage Error (MAPE): {mape:.2f}%\")\n",
    "print(f\"Mean Absolute Error (MAE): {mae:.2f}\")\n",
    "print(f\"Root Mean Squared Error (RMSE): {rmse:.2f}\")"
   ],
   "id": "37135e64957f13c8",
   "outputs": [
    {
     "name": "stdout",
     "output_type": "stream",
     "text": [
      "Mean Absolute Percentage Error (MAPE): 3.32%\n",
      "Mean Absolute Error (MAE): 823.68\n",
      "Root Mean Squared Error (RMSE): 883.87\n"
     ]
    }
   ],
   "execution_count": 52
  },
  {
   "metadata": {
    "ExecuteTime": {
     "end_time": "2024-10-30T09:11:01.615020Z",
     "start_time": "2024-10-30T09:11:01.596642Z"
    }
   },
   "cell_type": "code",
   "source": [
    "df_tcn = pd.DataFrame(forecasted_values)\n",
    "df_tcn.dropna(inplace=True)\n",
    "df_tcn.to_csv('/Users/divyanshu/PycharmProjects/MiniProject/tcn.csv')"
   ],
   "id": "34e7dd1c90c349ca",
   "outputs": [],
   "execution_count": 55
  }
 ],
 "metadata": {
  "kernelspec": {
   "display_name": "Python 3",
   "language": "python",
   "name": "python3"
  },
  "language_info": {
   "codemirror_mode": {
    "name": "ipython",
    "version": 2
   },
   "file_extension": ".py",
   "mimetype": "text/x-python",
   "name": "python",
   "nbconvert_exporter": "python",
   "pygments_lexer": "ipython2",
   "version": "2.7.6"
  }
 },
 "nbformat": 4,
 "nbformat_minor": 5
}
